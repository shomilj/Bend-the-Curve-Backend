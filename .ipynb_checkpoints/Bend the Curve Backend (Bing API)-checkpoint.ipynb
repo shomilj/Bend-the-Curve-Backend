{
 "cells": [
  {
   "cell_type": "markdown",
   "metadata": {},
   "source": [
    "# Using the Bing API to Collect Coronavirus Statistics\n",
    "\n",
    "This is the backend for \"Bend the Curve\" - https://github.com/shomilj/Bend-the-Curve-iOS."
   ]
  },
  {
   "cell_type": "code",
   "execution_count": 1,
   "metadata": {},
   "outputs": [],
   "source": [
    "import requests, json\n",
    "import numpy as np"
   ]
  },
  {
   "cell_type": "markdown",
   "metadata": {},
   "source": [
    "To be honest, I'm not sure if these headers are necessary! Regardless, I'm not sure if these are official API's – I pulled them from https://www.bing.com/covid."
   ]
  },
  {
   "cell_type": "code",
   "execution_count": 4,
   "metadata": {},
   "outputs": [
    {
     "ename": "JSONDecodeError",
     "evalue": "Expecting value: line 1 column 1 (char 0)",
     "output_type": "error",
     "traceback": [
      "\u001b[0;31m---------------------------------------------------------------------------\u001b[0m",
      "\u001b[0;31mJSONDecodeError\u001b[0m                           Traceback (most recent call last)",
      "\u001b[0;32m<ipython-input-4-3f0125d9a14f>\u001b[0m in \u001b[0;36m<module>\u001b[0;34m\u001b[0m\n\u001b[1;32m      4\u001b[0m )\n\u001b[1;32m      5\u001b[0m \u001b[0;34m\u001b[0m\u001b[0m\n\u001b[0;32m----> 6\u001b[0;31m \u001b[0mmetadata\u001b[0m \u001b[0;34m=\u001b[0m \u001b[0mrequests\u001b[0m\u001b[0;34m.\u001b[0m\u001b[0mget\u001b[0m\u001b[0;34m(\u001b[0m\u001b[0;34m'https://www.bing.com/covid/data'\u001b[0m\u001b[0;34m,\u001b[0m \u001b[0mheaders\u001b[0m\u001b[0;34m=\u001b[0m\u001b[0mheaders\u001b[0m\u001b[0;34m,\u001b[0m \u001b[0mparams\u001b[0m\u001b[0;34m=\u001b[0m\u001b[0mparams\u001b[0m\u001b[0;34m)\u001b[0m\u001b[0;34m.\u001b[0m\u001b[0mjson\u001b[0m\u001b[0;34m(\u001b[0m\u001b[0;34m)\u001b[0m\u001b[0;34m\u001b[0m\u001b[0;34m\u001b[0m\u001b[0m\n\u001b[0m\u001b[1;32m      7\u001b[0m \u001b[0;34m\u001b[0m\u001b[0m\n\u001b[1;32m      8\u001b[0m \u001b[0mgraphdata\u001b[0m \u001b[0;34m=\u001b[0m \u001b[0mrequests\u001b[0m\u001b[0;34m.\u001b[0m\u001b[0mget\u001b[0m\u001b[0;34m(\u001b[0m\u001b[0;34m'https://www.bing.com/covid/graphdata'\u001b[0m\u001b[0;34m,\u001b[0m \u001b[0mheaders\u001b[0m\u001b[0;34m=\u001b[0m\u001b[0mheaders\u001b[0m\u001b[0;34m)\u001b[0m\u001b[0;34m.\u001b[0m\u001b[0mjson\u001b[0m\u001b[0;34m(\u001b[0m\u001b[0;34m)\u001b[0m\u001b[0;34m\u001b[0m\u001b[0;34m\u001b[0m\u001b[0m\n",
      "\u001b[0;32m/usr/local/lib/python3.7/site-packages/requests/models.py\u001b[0m in \u001b[0;36mjson\u001b[0;34m(self, **kwargs)\u001b[0m\n\u001b[1;32m    895\u001b[0m                     \u001b[0;31m# used.\u001b[0m\u001b[0;34m\u001b[0m\u001b[0;34m\u001b[0m\u001b[0;34m\u001b[0m\u001b[0m\n\u001b[1;32m    896\u001b[0m                     \u001b[0;32mpass\u001b[0m\u001b[0;34m\u001b[0m\u001b[0;34m\u001b[0m\u001b[0m\n\u001b[0;32m--> 897\u001b[0;31m         \u001b[0;32mreturn\u001b[0m \u001b[0mcomplexjson\u001b[0m\u001b[0;34m.\u001b[0m\u001b[0mloads\u001b[0m\u001b[0;34m(\u001b[0m\u001b[0mself\u001b[0m\u001b[0;34m.\u001b[0m\u001b[0mtext\u001b[0m\u001b[0;34m,\u001b[0m \u001b[0;34m**\u001b[0m\u001b[0mkwargs\u001b[0m\u001b[0;34m)\u001b[0m\u001b[0;34m\u001b[0m\u001b[0;34m\u001b[0m\u001b[0m\n\u001b[0m\u001b[1;32m    898\u001b[0m \u001b[0;34m\u001b[0m\u001b[0m\n\u001b[1;32m    899\u001b[0m     \u001b[0;34m@\u001b[0m\u001b[0mproperty\u001b[0m\u001b[0;34m\u001b[0m\u001b[0;34m\u001b[0m\u001b[0m\n",
      "\u001b[0;32m/usr/local/Cellar/python/3.7.7/Frameworks/Python.framework/Versions/3.7/lib/python3.7/json/__init__.py\u001b[0m in \u001b[0;36mloads\u001b[0;34m(s, encoding, cls, object_hook, parse_float, parse_int, parse_constant, object_pairs_hook, **kw)\u001b[0m\n\u001b[1;32m    346\u001b[0m             \u001b[0mparse_int\u001b[0m \u001b[0;32mis\u001b[0m \u001b[0;32mNone\u001b[0m \u001b[0;32mand\u001b[0m \u001b[0mparse_float\u001b[0m \u001b[0;32mis\u001b[0m \u001b[0;32mNone\u001b[0m \u001b[0;32mand\u001b[0m\u001b[0;34m\u001b[0m\u001b[0;34m\u001b[0m\u001b[0m\n\u001b[1;32m    347\u001b[0m             parse_constant is None and object_pairs_hook is None and not kw):\n\u001b[0;32m--> 348\u001b[0;31m         \u001b[0;32mreturn\u001b[0m \u001b[0m_default_decoder\u001b[0m\u001b[0;34m.\u001b[0m\u001b[0mdecode\u001b[0m\u001b[0;34m(\u001b[0m\u001b[0ms\u001b[0m\u001b[0;34m)\u001b[0m\u001b[0;34m\u001b[0m\u001b[0;34m\u001b[0m\u001b[0m\n\u001b[0m\u001b[1;32m    349\u001b[0m     \u001b[0;32mif\u001b[0m \u001b[0mcls\u001b[0m \u001b[0;32mis\u001b[0m \u001b[0;32mNone\u001b[0m\u001b[0;34m:\u001b[0m\u001b[0;34m\u001b[0m\u001b[0;34m\u001b[0m\u001b[0m\n\u001b[1;32m    350\u001b[0m         \u001b[0mcls\u001b[0m \u001b[0;34m=\u001b[0m \u001b[0mJSONDecoder\u001b[0m\u001b[0;34m\u001b[0m\u001b[0;34m\u001b[0m\u001b[0m\n",
      "\u001b[0;32m/usr/local/Cellar/python/3.7.7/Frameworks/Python.framework/Versions/3.7/lib/python3.7/json/decoder.py\u001b[0m in \u001b[0;36mdecode\u001b[0;34m(self, s, _w)\u001b[0m\n\u001b[1;32m    335\u001b[0m \u001b[0;34m\u001b[0m\u001b[0m\n\u001b[1;32m    336\u001b[0m         \"\"\"\n\u001b[0;32m--> 337\u001b[0;31m         \u001b[0mobj\u001b[0m\u001b[0;34m,\u001b[0m \u001b[0mend\u001b[0m \u001b[0;34m=\u001b[0m \u001b[0mself\u001b[0m\u001b[0;34m.\u001b[0m\u001b[0mraw_decode\u001b[0m\u001b[0;34m(\u001b[0m\u001b[0ms\u001b[0m\u001b[0;34m,\u001b[0m \u001b[0midx\u001b[0m\u001b[0;34m=\u001b[0m\u001b[0m_w\u001b[0m\u001b[0;34m(\u001b[0m\u001b[0ms\u001b[0m\u001b[0;34m,\u001b[0m \u001b[0;36m0\u001b[0m\u001b[0;34m)\u001b[0m\u001b[0;34m.\u001b[0m\u001b[0mend\u001b[0m\u001b[0;34m(\u001b[0m\u001b[0;34m)\u001b[0m\u001b[0;34m)\u001b[0m\u001b[0;34m\u001b[0m\u001b[0;34m\u001b[0m\u001b[0m\n\u001b[0m\u001b[1;32m    338\u001b[0m         \u001b[0mend\u001b[0m \u001b[0;34m=\u001b[0m \u001b[0m_w\u001b[0m\u001b[0;34m(\u001b[0m\u001b[0ms\u001b[0m\u001b[0;34m,\u001b[0m \u001b[0mend\u001b[0m\u001b[0;34m)\u001b[0m\u001b[0;34m.\u001b[0m\u001b[0mend\u001b[0m\u001b[0;34m(\u001b[0m\u001b[0;34m)\u001b[0m\u001b[0;34m\u001b[0m\u001b[0;34m\u001b[0m\u001b[0m\n\u001b[1;32m    339\u001b[0m         \u001b[0;32mif\u001b[0m \u001b[0mend\u001b[0m \u001b[0;34m!=\u001b[0m \u001b[0mlen\u001b[0m\u001b[0;34m(\u001b[0m\u001b[0ms\u001b[0m\u001b[0;34m)\u001b[0m\u001b[0;34m:\u001b[0m\u001b[0;34m\u001b[0m\u001b[0;34m\u001b[0m\u001b[0m\n",
      "\u001b[0;32m/usr/local/Cellar/python/3.7.7/Frameworks/Python.framework/Versions/3.7/lib/python3.7/json/decoder.py\u001b[0m in \u001b[0;36mraw_decode\u001b[0;34m(self, s, idx)\u001b[0m\n\u001b[1;32m    353\u001b[0m             \u001b[0mobj\u001b[0m\u001b[0;34m,\u001b[0m \u001b[0mend\u001b[0m \u001b[0;34m=\u001b[0m \u001b[0mself\u001b[0m\u001b[0;34m.\u001b[0m\u001b[0mscan_once\u001b[0m\u001b[0;34m(\u001b[0m\u001b[0ms\u001b[0m\u001b[0;34m,\u001b[0m \u001b[0midx\u001b[0m\u001b[0;34m)\u001b[0m\u001b[0;34m\u001b[0m\u001b[0;34m\u001b[0m\u001b[0m\n\u001b[1;32m    354\u001b[0m         \u001b[0;32mexcept\u001b[0m \u001b[0mStopIteration\u001b[0m \u001b[0;32mas\u001b[0m \u001b[0merr\u001b[0m\u001b[0;34m:\u001b[0m\u001b[0;34m\u001b[0m\u001b[0;34m\u001b[0m\u001b[0m\n\u001b[0;32m--> 355\u001b[0;31m             \u001b[0;32mraise\u001b[0m \u001b[0mJSONDecodeError\u001b[0m\u001b[0;34m(\u001b[0m\u001b[0;34m\"Expecting value\"\u001b[0m\u001b[0;34m,\u001b[0m \u001b[0ms\u001b[0m\u001b[0;34m,\u001b[0m \u001b[0merr\u001b[0m\u001b[0;34m.\u001b[0m\u001b[0mvalue\u001b[0m\u001b[0;34m)\u001b[0m \u001b[0;32mfrom\u001b[0m \u001b[0;32mNone\u001b[0m\u001b[0;34m\u001b[0m\u001b[0;34m\u001b[0m\u001b[0m\n\u001b[0m\u001b[1;32m    356\u001b[0m         \u001b[0;32mreturn\u001b[0m \u001b[0mobj\u001b[0m\u001b[0;34m,\u001b[0m \u001b[0mend\u001b[0m\u001b[0;34m\u001b[0m\u001b[0;34m\u001b[0m\u001b[0m\n",
      "\u001b[0;31mJSONDecodeError\u001b[0m: Expecting value: line 1 column 1 (char 0)"
     ]
    }
   ],
   "source": [
    "headers = {\n",
    "    'authority': 'www.bing.com',\n",
    "    'pragma': 'no-cache',\n",
    "    'cache-control': 'no-cache',\n",
    "    'user-agent': 'Mozilla/5.0 (Macintosh; Intel Mac OS X 10_15_2) AppleWebKit/537.36 (KHTML, like Gecko) Chrome/80.0.3987.149 Safari/537.36',\n",
    "    'sec-fetch-dest': 'empty',\n",
    "    'accept': '*/*',\n",
    "    'sec-fetch-site': 'same-origin',\n",
    "    'sec-fetch-mode': 'cors',\n",
    "    'referer': 'https://www.bing.com/covid',\n",
    "    'accept-language': 'en-US,en;q=0.9',\n",
    "}\n",
    "\n",
    "params = (\n",
    "    ('IG', '140FBA510971427188AF4078EE911038'),\n",
    ")\n",
    "\n",
    "metadata = requests.get('https://www.bing.com/covid/data', headers=headers, params=params).json()\n",
    "headers = {\n",
    "    'authority': 'www.bing.com',\n",
    "    'pragma': 'no-cache',\n",
    "    'cache-control': 'no-cache',\n",
    "    'user-agent': 'Mozilla/5.0 (Macintosh; Intel Mac OS X 10_15_2) AppleWebKit/537.36 (KHTML, like Gecko) Chrome/80.0.3987.149 Safari/537.36',\n",
    "    'sec-fetch-dest': 'empty',\n",
    "    'accept': '*/*',\n",
    "    'sec-fetch-site': 'same-origin',\n",
    "    'sec-fetch-mode': 'cors',\n",
    "    'referer': 'https://www.bing.com/covid',\n",
    "    'accept-language': 'en-US,en;q=0.9',\n",
    "}\n",
    "\n",
    "graphdata = requests.get('https://www.bing.com/covid/graphdata', headers=headers).json()\n",
    "targets = list(graphdata.keys())"
   ]
  },
  {
   "cell_type": "markdown",
   "metadata": {},
   "source": [
    "*graphdata* contains data needed to generate the graphs."
   ]
  },
  {
   "cell_type": "code",
   "execution_count": 3,
   "metadata": {},
   "outputs": [
    {
     "ename": "NameError",
     "evalue": "name 'graphdata' is not defined",
     "output_type": "error",
     "traceback": [
      "\u001b[0;31m---------------------------------------------------------------------------\u001b[0m",
      "\u001b[0;31mNameError\u001b[0m                                 Traceback (most recent call last)",
      "\u001b[0;32m<ipython-input-3-1721ab595716>\u001b[0m in \u001b[0;36m<module>\u001b[0;34m\u001b[0m\n\u001b[0;32m----> 1\u001b[0;31m \u001b[0mgraphdata\u001b[0m\u001b[0;34m[\u001b[0m\u001b[0;34m'newyork_unitedstates'\u001b[0m\u001b[0;34m]\u001b[0m\u001b[0;34m[\u001b[0m\u001b[0;34m-\u001b[0m\u001b[0;36m1\u001b[0m\u001b[0;34m]\u001b[0m\u001b[0;34m\u001b[0m\u001b[0;34m\u001b[0m\u001b[0m\n\u001b[0m",
      "\u001b[0;31mNameError\u001b[0m: name 'graphdata' is not defined"
     ]
    }
   ],
   "source": [
    "graphdata['newyork_unitedstates'][-1]"
   ]
  },
  {
   "cell_type": "code",
   "execution_count": 30,
   "metadata": {
    "scrolled": true
   },
   "outputs": [
    {
     "data": {
      "text/plain": [
       "[{'confirmed': 1, 'fatal': 0, 'recovered': 0, 'date': '2020-01-24'},\n",
       " {'confirmed': 2, 'fatal': 0, 'recovered': 0, 'date': '2020-01-25'},\n",
       " {'confirmed': 2, 'fatal': 0, 'recovered': 0, 'date': '2020-01-26'}]"
      ]
     },
     "execution_count": 30,
     "metadata": {},
     "output_type": "execute_result"
    }
   ],
   "source": [
    "graphdata['unitedstates'][:3]"
   ]
  },
  {
   "cell_type": "markdown",
   "metadata": {},
   "source": [
    "*metadata* is a tree-like structure containing regions and subregions, with data associated with each node."
   ]
  },
  {
   "cell_type": "code",
   "execution_count": 31,
   "metadata": {},
   "outputs": [
    {
     "data": {
      "text/plain": [
       "dict_keys(['id', 'displayName', 'areas', 'totalConfirmed', 'totalDeaths', 'totalRecovered', 'lastUpdated'])"
      ]
     },
     "execution_count": 31,
     "metadata": {},
     "output_type": "execute_result"
    }
   ],
   "source": [
    "metadata.keys()"
   ]
  },
  {
   "cell_type": "markdown",
   "metadata": {},
   "source": [
    "Let's parse the tree-like structure into something more usable. *Regions* contains a list of key-metadata pairs (metadata = numConfirmed, numDeaths, etc...)"
   ]
  },
  {
   "cell_type": "code",
   "execution_count": 32,
   "metadata": {},
   "outputs": [],
   "source": [
    "regions = {}\n",
    "def parse(d, parent='Global'):\n",
    "    try:\n",
    "        areas = d.pop('areas')\n",
    "    except:\n",
    "        areas = []\n",
    "    regions[d.get('id')] = d\n",
    "    [parse(a, d.get('displayName')) for a in areas]\n",
    "parse(metadata)"
   ]
  },
  {
   "cell_type": "markdown",
   "metadata": {},
   "source": [
    "Here's an example."
   ]
  },
  {
   "cell_type": "code",
   "execution_count": 33,
   "metadata": {},
   "outputs": [
    {
     "data": {
      "text/plain": [
       "{'id': 'unitedstates',\n",
       " 'displayName': 'United States',\n",
       " 'totalConfirmed': 83545,\n",
       " 'totalDeaths': 1201,\n",
       " 'totalRecovered': 1864,\n",
       " 'lastUpdated': '2020-03-27T03:36:43.163Z',\n",
       " 'lat': 39.495914459228516,\n",
       " 'long': -98.98998260498047,\n",
       " 'parentId': 'world'}"
      ]
     },
     "execution_count": 33,
     "metadata": {},
     "output_type": "execute_result"
    }
   ],
   "source": [
    "regions['unitedstates']"
   ]
  },
  {
   "cell_type": "markdown",
   "metadata": {},
   "source": [
    "We use a safediv function to avoid division by zero errors."
   ]
  },
  {
   "cell_type": "code",
   "execution_count": 34,
   "metadata": {},
   "outputs": [],
   "source": [
    "def safediv(a, b):\n",
    "    try:\n",
    "        return round(100 * ((a - b) / b))\n",
    "    except:\n",
    "        return 0"
   ]
  },
  {
   "cell_type": "markdown",
   "metadata": {},
   "source": [
    "For each target region, extract all relevant statistics and graph data."
   ]
  },
  {
   "cell_type": "code",
   "execution_count": 40,
   "metadata": {},
   "outputs": [],
   "source": [
    "uploads = {}\n",
    "\n",
    "for target in targets:\n",
    "    meta = regions.get(target)\n",
    "    if meta == None:\n",
    "        continue\n",
    "    \n",
    "    td = regions.get(target).get(\"totalDeaths\")\n",
    "    tr = regions.get(target).get(\"totalRecovered\")\n",
    "    tc = regions.get(target).get(\"totalConfirmed\")\n",
    "    \n",
    "    if td == None: td = graphdata[target][-1].get('fatal')\n",
    "    if tr == None: tr = graphdata[target][-1].get('recovered')\n",
    "    if tc == None: tc = graphdata[target][-1].get('confirmed')\n",
    "    dates = [r.get('date') for r in graphdata[target]] + [\"Today\"]\n",
    "    deaths = [r.get('fatal') for r in graphdata[target]] + [td]\n",
    "    confirmed = [r.get('confirmed') for r in graphdata[target]] + [tc]\n",
    "    recovered = [r.get('recovered') for r in graphdata[target]] + [tr]\n",
    "    \n",
    "    deaths_log = list(map(int, (100 * np.log1p(deaths))))\n",
    "    confirmed_log = list(map(int, (100 * np.log1p(confirmed))))\n",
    "    recovered_log = list(map(int, (100 * np.log1p(recovered))))\n",
    "    # deaths = list((np.log1p([r.get('fatal') for r in graphdata[target]] + [td]) * 100))\n",
    "    # confirmed = list((np.rint(np.log1p([r.get('confirmed') for r in graphdata[target]] + [tc]) * 100)))\n",
    "    # recovered = list((np.rint(np.log1p([r.get('recovered') for r in graphdata[target]] + [tr]) * 100)))\n",
    "\n",
    "    \n",
    "    if len(dates) > 12:\n",
    "        stats = {\n",
    "            'oneDayPercent': safediv(confirmed[-1], confirmed[-3]),\n",
    "            'fiveDayPercent': safediv(confirmed[-1], confirmed[-8]),\n",
    "            'tenDayPercent':  safediv(confirmed[-1], confirmed[-13]),\n",
    "            'oneDayNum': tc - confirmed[-3],\n",
    "            'fiveDayNum': tc - confirmed[-8],\n",
    "            'tenDayNum': tc - confirmed[-13],\n",
    "            'confirmedCount': tc\n",
    "        }\n",
    "    else:\n",
    "        stats = {'oneDayPercent': 0,\n",
    "                'fiveDayPercent': 0,\n",
    "                'tenDayPercent': 0,\n",
    "                'oneDayNum': 0,\n",
    "                'fiveDayNum': 0,\n",
    "                'tenDayNum': 0,\n",
    "                'confirmedCount': 0}\n",
    "    \n",
    "    try:\n",
    "        parent = regions.get(meta.get('parentId')).get('displayName')\n",
    "    except:\n",
    "        parent = 'Global'\n",
    "    \n",
    "    if parent == \"Italy\": continue\n",
    "        \n",
    "    upload = {\n",
    "        'country': parent,\n",
    "        'lat': meta.get('lat'),\n",
    "        'lon': meta.get('long'),\n",
    "        'region': meta.get('displayName'),\n",
    "        'timeSeriesKeys': ['Confirmed', 'Deaths', 'Recovered'],\n",
    "        'timeSeriesX': dates,\n",
    "        'timeSeriesY': {\n",
    "            'Confirmed': confirmed,\n",
    "            'Deaths': deaths,\n",
    "            'Recovered': recovered\n",
    "        },\n",
    "        'oneDayPercent': []\n",
    "    }\n",
    "    upload.update(stats)\n",
    "    if upload['country'] == 'Global' and upload.get('region') != None:\n",
    "        upload['country'] = upload['region']\n",
    "    uploads[target] = upload"
   ]
  },
  {
   "cell_type": "markdown",
   "metadata": {},
   "source": [
    "Now, *uploads* contains the data needed for the app to work!"
   ]
  },
  {
   "cell_type": "code",
   "execution_count": 41,
   "metadata": {
    "scrolled": true
   },
   "outputs": [
    {
     "data": {
      "text/plain": [
       "{'country': 'Spain',\n",
       " 'lat': 40.49482727050781,\n",
       " 'lon': -3.715894937515259,\n",
       " 'region': 'Madrid',\n",
       " 'timeSeriesKeys': ['Confirmed', 'Deaths', 'Recovered'],\n",
       " 'timeSeriesX': ['2020-02-28',\n",
       "  '2020-02-29',\n",
       "  '2020-03-01',\n",
       "  '2020-03-02',\n",
       "  '2020-03-04',\n",
       "  '2020-03-05',\n",
       "  '2020-03-06',\n",
       "  '2020-03-07',\n",
       "  '2020-03-08',\n",
       "  '2020-03-09',\n",
       "  '2020-03-11',\n",
       "  '2020-03-12',\n",
       "  '2020-03-13',\n",
       "  '2020-03-14',\n",
       "  '2020-03-15',\n",
       "  '2020-03-16',\n",
       "  '2020-03-17',\n",
       "  '2020-03-18',\n",
       "  '2020-03-19',\n",
       "  '2020-03-20',\n",
       "  '2020-03-21',\n",
       "  '2020-03-22',\n",
       "  '2020-03-23',\n",
       "  '2020-03-24',\n",
       "  '2020-03-25',\n",
       "  'Today'],\n",
       " 'timeSeriesY': {'Confirmed': [5,\n",
       "   29,\n",
       "   53,\n",
       "   77,\n",
       "   70,\n",
       "   90,\n",
       "   137,\n",
       "   469,\n",
       "   849,\n",
       "   1181,\n",
       "   1024,\n",
       "   1388,\n",
       "   1990,\n",
       "   2940,\n",
       "   3544,\n",
       "   4875,\n",
       "   5641,\n",
       "   6781,\n",
       "   7169,\n",
       "   8925,\n",
       "   9706,\n",
       "   10579,\n",
       "   12356,\n",
       "   14597,\n",
       "   17166,\n",
       "   17166],\n",
       "  'Deaths': [0,\n",
       "   0,\n",
       "   0,\n",
       "   0,\n",
       "   0,\n",
       "   0,\n",
       "   0,\n",
       "   0,\n",
       "   0,\n",
       "   0,\n",
       "   0,\n",
       "   0,\n",
       "   0,\n",
       "   0,\n",
       "   0,\n",
       "   0,\n",
       "   0,\n",
       "   0,\n",
       "   0,\n",
       "   0,\n",
       "   0,\n",
       "   0,\n",
       "   1535,\n",
       "   1825,\n",
       "   2090,\n",
       "   2090],\n",
       "  'Recovered': [0,\n",
       "   0,\n",
       "   0,\n",
       "   0,\n",
       "   0,\n",
       "   0,\n",
       "   0,\n",
       "   0,\n",
       "   0,\n",
       "   0,\n",
       "   0,\n",
       "   0,\n",
       "   0,\n",
       "   0,\n",
       "   0,\n",
       "   0,\n",
       "   0,\n",
       "   0,\n",
       "   0,\n",
       "   0,\n",
       "   0,\n",
       "   0,\n",
       "   2291,\n",
       "   3031,\n",
       "   3882,\n",
       "   3882]},\n",
       " 'oneDayPercent': 18,\n",
       " 'fiveDayPercent': 139,\n",
       " 'tenDayPercent': 484,\n",
       " 'oneDayNum': 2569,\n",
       " 'fiveDayNum': 9997,\n",
       " 'tenDayNum': 14226,\n",
       " 'confirmedCount': 17166}"
      ]
     },
     "execution_count": 41,
     "metadata": {},
     "output_type": "execute_result"
    }
   ],
   "source": [
    "uploads['madrid_spain']"
   ]
  },
  {
   "cell_type": "markdown",
   "metadata": {},
   "source": [
    "# Upload to Firebase/Firestore"
   ]
  },
  {
   "cell_type": "markdown",
   "metadata": {},
   "source": [
    "The app uses a Firebase/Firestore backend. Let's upload our data to that backend."
   ]
  },
  {
   "cell_type": "code",
   "execution_count": 42,
   "metadata": {},
   "outputs": [
    {
     "name": "stdout",
     "output_type": "stream",
     "text": [
      "Already initialized!\n",
      "The default Firebase app already exists. This means you called initialize_app() more than once without providing an app name as the second argument. In most cases you only need to call initialize_app() once. But if you do want to initialize multiple apps, pass a second argument to initialize_app() to give each app a unique name. The default Firebase app already exists. This means you called initialize_app() more than once without providing an app name as the second argument. In most cases you only need to call initialize_app() once. But if you do want to initialize multiple apps, pass a second argument to initialize_app() to give each app a unique name.\n"
     ]
    }
   ],
   "source": [
    "from firebase_admin import firestore, credentials\n",
    "import firebase_admin\n",
    "try:\n",
    "    cred = credentials.Certificate('/Users/shomil/Documents/ServerKeys/ncov19.json')\n",
    "    firebase_admin.initialize_app(cred)\n",
    "except Exception as e:\n",
    "    try:\n",
    "        firebase_admin.initialize_app()\n",
    "    except Exception as f:\n",
    "        print(\"Already initialized!\")\n",
    "        print(e, f)\n",
    "db = firestore.client()"
   ]
  },
  {
   "cell_type": "code",
   "execution_count": 43,
   "metadata": {},
   "outputs": [
    {
     "name": "stdout",
     "output_type": "stream",
     "text": [
      "Completed upload!\n"
     ]
    }
   ],
   "source": [
    "batch = db.batch()\n",
    "count = 0\n",
    "for k, v in uploads.items():\n",
    "    batch.set(db.collection('statistics').document(k), v)\n",
    "    count += 1\n",
    "    if count == 200:\n",
    "        batch.commit()\n",
    "        count = 0\n",
    "batch.commit()\n",
    "print(\"Completed upload!\")"
   ]
  },
  {
   "cell_type": "code",
   "execution_count": null,
   "metadata": {},
   "outputs": [],
   "source": []
  },
  {
   "cell_type": "code",
   "execution_count": 44,
   "metadata": {},
   "outputs": [],
   "source": [
    "# def delete_all():\n",
    "#     batch = db.batch()\n",
    "#     def delete_collection(coll_ref, batch_size):\n",
    "#         docs = coll_ref.limit(batch_size).stream()\n",
    "#         deleted = 0\n",
    "\n",
    "#         for doc in docs:\n",
    "#             print(u'Deleting doc {} => {}'.format(doc.id, doc.to_dict()))\n",
    "#             batch.delete(doc.reference)\n",
    "#             deleted = deleted + 1\n",
    "\n",
    "#         if deleted >= batch_size:\n",
    "#             batch.commit()\n",
    "#             return delete_collection(coll_ref, batch_size)\n",
    "#     delete_collection(db.collection('statistics'), 100)\n",
    "#     batch.commit()\n",
    "#delete_all()"
   ]
  },
  {
   "cell_type": "code",
   "execution_count": null,
   "metadata": {},
   "outputs": [],
   "source": []
  },
  {
   "cell_type": "code",
   "execution_count": null,
   "metadata": {},
   "outputs": [],
   "source": []
  },
  {
   "cell_type": "code",
   "execution_count": null,
   "metadata": {},
   "outputs": [],
   "source": []
  },
  {
   "cell_type": "code",
   "execution_count": null,
   "metadata": {},
   "outputs": [],
   "source": []
  }
 ],
 "metadata": {
  "kernelspec": {
   "display_name": "Python 3",
   "language": "python",
   "name": "python3"
  },
  "language_info": {
   "codemirror_mode": {
    "name": "ipython",
    "version": 3
   },
   "file_extension": ".py",
   "mimetype": "text/x-python",
   "name": "python",
   "nbconvert_exporter": "python",
   "pygments_lexer": "ipython3",
   "version": "3.7.7"
  }
 },
 "nbformat": 4,
 "nbformat_minor": 2
}
